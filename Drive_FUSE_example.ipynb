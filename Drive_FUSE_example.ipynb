{
  "nbformat": 4,
  "nbformat_minor": 0,
  "metadata": {
    "colab": {
      "name": "Drive FUSE example.ipynb",
      "version": "0.3.2",
      "provenance": [],
      "collapsed_sections": [],
      "toc_visible": true,
      "include_colab_link": true
    }
  },
  "cells": [
    {
      "cell_type": "markdown",
      "metadata": {
        "id": "view-in-github",
        "colab_type": "text"
      },
      "source": [
        "[View in Colaboratory](https://colab.research.google.com/github/richardwang96/examples/blob/master/Drive_FUSE_example.ipynb)"
      ]
    },
    {
      "metadata": {
        "id": "c99EvWo1s9-x",
        "colab_type": "code",
        "colab": {
          "base_uri": "https://localhost:8080/",
          "height": 34
        },
        "outputId": "d6e195e9-523e-4601-f42b-eeaeb78ea343"
      },
      "cell_type": "code",
      "source": [
        "# Load the Drive helper and mount\n",
        "from google.colab import drive\n",
        "\n",
        "# This will prompt for authorization.\n",
        "drive.mount('/content/drive')"
      ],
      "execution_count": 1,
      "outputs": [
        {
          "output_type": "stream",
          "text": [
            "Mounted at /content/drive\n"
          ],
          "name": "stdout"
        }
      ]
    },
    {
      "metadata": {
        "id": "H4SJ-tGNkOeY",
        "colab_type": "code",
        "colab": {
          "base_uri": "https://localhost:8080/",
          "height": 170
        },
        "outputId": "b39b8e46-b45a-40f0-ce46-9316904e8d6e"
      },
      "cell_type": "code",
      "source": [
        "# After executing the cell above, Drive\n",
        "# files will be present in \"/content/drive/My Drive\".\n",
        "!ls \"/content/drive/My Drive\""
      ],
      "execution_count": 2,
      "outputs": [
        {
          "output_type": "stream",
          "text": [
            "07_structured_data.ipynb\t   Sample Excel file.xlsx\n",
            "BigQuery recipes\t\t   script.ipynb\n",
            "Colab Notebooks\t\t\t   TFGan tutorial in Colab.txt\n",
            "Copy of nima colab.ipynb\t   to_upload (1).ipynb\n",
            "created.txt\t\t\t   to_upload (2).ipynb\n",
            "Exported DataFrame sheet.gsheet    to_upload (3).ipynb\n",
            "foo.txt\t\t\t\t   to_upload.ipynb\n",
            "Pickle + Drive FUSE example.ipynb  variables.pickle\n",
            "Sample Excel file.gsheet\n"
          ],
          "name": "stdout"
        }
      ]
    },
    {
      "metadata": {
        "id": "UADu4vFNkjX1",
        "colab_type": "text"
      },
      "cell_type": "markdown",
      "source": [
        "You can also use the file browser in the sidebar to browse Drive files. \n",
        "![](https://i.stack.imgur.com/TxnUX.png)"
      ]
    }
  ]
}